{
 "cells": [
  {
   "cell_type": "code",
   "execution_count": 23,
   "id": "d2237581",
   "metadata": {},
   "outputs": [],
   "source": [
    "import csv\n",
    "import json\n",
    "import re"
   ]
  },
  {
   "cell_type": "code",
   "execution_count": null,
   "id": "e3970a4c",
   "metadata": {},
   "outputs": [],
   "source": [
    "#Write a function `p6` that takes in a filename as an argument, reads it as a TSV with a header row, and returns an iterator of dictionaries like in the example code.\n",
    "#Each value should be parsed as an integer.\n",
    "#If a value does not parse successfully, set the value to None.\n",
    "def p6(filename):\n",
    "    with open(filename, 'r', newline = '') as file:\n",
    "        for row in csv.DictReader(file, delimiter='\\t'):\n",
    "            new_row = {}\n",
    "            for key, value in row.items():\n",
    "                try:\n",
    "                    new_row[key] = int(value)\n",
    "                except (ValueError, TypeError):\n",
    "                    new_row[key] = None\n",
    "            yield new_row"
   ]
  },
  {
   "cell_type": "code",
   "execution_count": null,
   "id": "7a741254",
   "metadata": {},
   "outputs": [],
   "source": [
    "def p6 (filename):\n",
    "    with open(filename, 'r', newline='') as file:\n",
    "        for row in csv.DictReader(file, delimiter='\\t'):\n",
    "            new_row = {}\n",
    "            for key, value in row.items():\n",
    "                try:\n",
    "                    new_row[key] = int(value)\n",
    "                except (ValueError, TypeError):\n",
    "                    new_row[key] = None\n",
    "            yield new_row"
   ]
  },
  {
   "cell_type": "code",
   "execution_count": 41,
   "id": "cbfaf0d0",
   "metadata": {},
   "outputs": [],
   "source": [
    "def p6(filename):\n",
    "    with open (filename, 'r', newline='') as file:\n",
    "        # define another function to parse Int\n",
    "        def try_int(v):\n",
    "            if v is None or not v.strip():\n",
    "                return None\n",
    "            try:\n",
    "                return int(v)\n",
    "            except (ValueError, TypeError):\n",
    "                return None\n",
    "        for row in csv.DictReader(file, delimiter='\\t'):\n",
    "            yield ({k:try_int(v) for k, v in row.items()})"
   ]
  },
  {
   "cell_type": "markdown",
   "id": "fea0e26b",
   "metadata": {},
   "source": []
  },
  {
   "cell_type": "code",
   "execution_count": 42,
   "id": "c0911cc7",
   "metadata": {},
   "outputs": [
    {
     "data": {
      "text/plain": [
       "[{'a': 3, 'b': 4}]"
      ]
     },
     "execution_count": 42,
     "metadata": {},
     "output_type": "execute_result"
    }
   ],
   "source": [
    "list(p6(\"data6_a.tsv\"))"
   ]
  },
  {
   "cell_type": "code",
   "execution_count": null,
   "id": "11179375",
   "metadata": {},
   "outputs": [],
   "source": [
    "def p13 (filename):\n",
    "    with open (filename, 'r', newline='') as file:\n",
    "        return csv.DictReader(file, delimiter='\\t').fieldnames"
   ]
  },
  {
   "cell_type": "code",
   "execution_count": null,
   "id": "299b623e",
   "metadata": {},
   "outputs": [
    {
     "data": {
      "text/plain": [
       "['foo,bar']"
      ]
     },
     "execution_count": 20,
     "metadata": {},
     "output_type": "execute_result"
    }
   ],
   "source": [
    "p13(\"data13_a.csv\")"
   ]
  },
  {
   "cell_type": "code",
   "execution_count": null,
   "id": "b6a1a789",
   "metadata": {},
   "outputs": [],
   "source": [
    "def p10(filename):\n",
    "        with open(filename, 'r') as file:\n",
    "                return '\\t' in file.readline()"
   ]
  },
  {
   "cell_type": "code",
   "execution_count": null,
   "id": "942fdb68",
   "metadata": {},
   "outputs": [
    {
     "data": {
      "text/plain": [
       "False"
      ]
     },
     "execution_count": 35,
     "metadata": {},
     "output_type": "execute_result"
    }
   ],
   "source": [
    "p10(\"data10_b.tsv\")"
   ]
  },
  {
   "cell_type": "code",
   "execution_count": null,
   "id": "a1247b9f",
   "metadata": {},
   "outputs": [],
   "source": [
    "def p9 (filename):\n",
    "    with open(filename, 'r', newline='') as file:\n",
    "        return len([row for row in csv.DictReader(file, delimiter='\\t') if any(row.values())])"
   ]
  },
  {
   "cell_type": "code",
   "execution_count": null,
   "id": "b9989497",
   "metadata": {},
   "outputs": [
    {
     "data": {
      "text/plain": [
       "1"
      ]
     },
     "execution_count": 8,
     "metadata": {},
     "output_type": "execute_result"
    }
   ],
   "source": [
    "p9(\"data9_a.tsv\")"
   ]
  },
  {
   "cell_type": "code",
   "execution_count": null,
   "id": "1b596218",
   "metadata": {},
   "outputs": [],
   "source": [
    "def p7(filename):\n",
    "    with open (filename, 'r', newline='') as file:\n",
    "        \n",
    "        # define another function to parse Int\n",
    "        def try_int(v):      \n",
    "            tracking = 0      \n",
    "            if v is None or not v.strip():\n",
    "                \n",
    "                return 3, tracking == 100\n",
    "                \n",
    "            try:\n",
    "                return int(v)\n",
    "            except (ValueError, TypeError):\n",
    "                \n",
    "                return 3, tracking == 100\n",
    "                \n",
    "        # now loop through each row, and yield an iterator (not list[])    \n",
    "        for row in csv.DictReader(file, delimiter='\\t'):\n",
    "            finagled = False\n",
    "            new_row = {}\n",
    "\n",
    "            for k, v in row.items():\n",
    "                new_row[k] = try_int(v)\n",
    "\n",
    "                if tracking == 100:\n",
    "                    finagled = True\n",
    "            new_row[\"finagled\"] = finagled\n",
    "            yield new_row"
   ]
  },
  {
   "cell_type": "code",
   "execution_count": 148,
   "id": "b1dcf128",
   "metadata": {},
   "outputs": [
    {
     "data": {
      "text/plain": [
       "[{'a': 3, 'b': 4, 'finagled': False}]"
      ]
     },
     "execution_count": 148,
     "metadata": {},
     "output_type": "execute_result"
    }
   ],
   "source": [
    "list(p7(\"data7_a.tsv\"))"
   ]
  },
  {
   "cell_type": "code",
   "execution_count": 67,
   "id": "89ea4b5b",
   "metadata": {},
   "outputs": [],
   "source": [
    "def p18(filename, column_name, column_value):\n",
    "    with open(filename, 'r', newline='') as file:\n",
    "        for row in csv.DictReader(file, delimiter='\\t'):\n",
    "            if str(row.get(column_name)) == str(column_value):\n",
    "                return row\n",
    "        return None"
   ]
  },
  {
   "cell_type": "code",
   "execution_count": 70,
   "id": "05bc7880",
   "metadata": {},
   "outputs": [
    {
     "data": {
      "text/plain": [
       "{'foo': '1', 'bar': '2'}"
      ]
     },
     "execution_count": 70,
     "metadata": {},
     "output_type": "execute_result"
    }
   ],
   "source": [
    "p18(\"data18_a.tsv\", \"foo\", 1)"
   ]
  },
  {
   "cell_type": "code",
   "execution_count": 80,
   "id": "00cc7352",
   "metadata": {},
   "outputs": [],
   "source": [
    "def p19(input):\n",
    "    if len(input) >= 10:\n",
    "        return input[9]\n",
    "\n",
    "    return None"
   ]
  },
  {
   "cell_type": "code",
   "execution_count": 79,
   "id": "a864b418",
   "metadata": {},
   "outputs": [
    {
     "data": {
      "text/plain": [
       "'c'"
      ]
     },
     "execution_count": 79,
     "metadata": {},
     "output_type": "execute_result"
    }
   ],
   "source": [
    "p19(\"aaaaaaaaacaaaa\")"
   ]
  },
  {
   "cell_type": "code",
   "execution_count": 135,
   "id": "0dc003d3",
   "metadata": {},
   "outputs": [],
   "source": [
    "def p17(filename, column_names):\n",
    "    with open(filename, 'r', newline='') as file:\n",
    "        headers = csv.DictReader(file, delimiter=',').fieldnames     \n",
    "        return all(col in headers for col in column_names)"
   ]
  },
  {
   "cell_type": "code",
   "execution_count": 139,
   "id": "868dd6cf",
   "metadata": {},
   "outputs": [
    {
     "data": {
      "text/plain": [
       "True"
      ]
     },
     "execution_count": 139,
     "metadata": {},
     "output_type": "execute_result"
    }
   ],
   "source": [
    "p17(\"data17_a.csv\", [\"foo\", \"bar\"])"
   ]
  }
 ],
 "metadata": {
  "kernelspec": {
   "display_name": "Python 3",
   "language": "python",
   "name": "python3"
  },
  "language_info": {
   "codemirror_mode": {
    "name": "ipython",
    "version": 3
   },
   "file_extension": ".py",
   "mimetype": "text/x-python",
   "name": "python",
   "nbconvert_exporter": "python",
   "pygments_lexer": "ipython3",
   "version": "3.12.1"
  }
 },
 "nbformat": 4,
 "nbformat_minor": 5
}
