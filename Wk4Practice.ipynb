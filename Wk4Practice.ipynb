{
 "cells": [
  {
   "cell_type": "code",
   "execution_count": 1,
   "id": "d2237581",
   "metadata": {},
   "outputs": [],
   "source": [
    "import csv\n",
    "import json\n",
    "import re"
   ]
  },
  {
   "cell_type": "code",
   "execution_count": 2,
   "id": "e3970a4c",
   "metadata": {},
   "outputs": [],
   "source": [
    "#Write a function `p6` that takes in a filename as an argument, reads it as a TSV with a header row, and returns an iterator of dictionaries like in the example code.\n",
    "#Each value should be parsed as an integer.\n",
    "#If a value does not parse successfully, set the value to None.\n",
    "def p6(filename):\n",
    "    with open(filename, 'r', newline = '') as file:\n",
    "        for row in csv.DictReader(file, delimiter='\\t'):\n",
    "            new_row = {}\n",
    "            for key, value in row.items():\n",
    "                try:\n",
    "                    new_row[key] = int(value)\n",
    "                except (ValueError, TypeError):\n",
    "                    new_row[key] = None\n",
    "            yield new_row"
   ]
  },
  {
   "cell_type": "code",
   "execution_count": 3,
   "id": "4285a03b",
   "metadata": {},
   "outputs": [],
   "source": [
    "def p6(filename):\n",
    "    with open(filename, \"r\", newline=\"\") as file:\n",
    "        reader = csv.DictReader(file, delimiter=\"\\t\")\n",
    "        for row in reader:\n",
    "            for key, value in row.items():\n",
    "                try:\n",
    "                    row[key] = int(value)\n",
    "                except ValueError:\n",
    "                    row[key] = None\n",
    "            yield row"
   ]
  },
  {
   "cell_type": "code",
   "execution_count": 4,
   "id": "7a741254",
   "metadata": {},
   "outputs": [],
   "source": [
    "def p6(filename):\n",
    "    with open(filename, 'r', newline='') as file:\n",
    "        for row in csv.DictReader(file, delimiter='\\t'):\n",
    "            new_row = {}\n",
    "            for k, v in row.items():\n",
    "                if v is None or not v.strip():\n",
    "                    new_row[k] = None\n",
    "                else:\n",
    "                    try:\n",
    "                        new_row[k] = int(v)\n",
    "                    except (ValueError, TypeError):\n",
    "                        new_row[k] = None\n",
    "            yield new_row"
   ]
  },
  {
   "cell_type": "code",
   "execution_count": 5,
   "id": "9332ea75",
   "metadata": {},
   "outputs": [
    {
     "data": {
      "text/plain": [
       "[{'a': None, 'b': None, 'c': None}]"
      ]
     },
     "execution_count": 5,
     "metadata": {},
     "output_type": "execute_result"
    }
   ],
   "source": [
    "list(p6(\"data6_b.tsv\"))"
   ]
  },
  {
   "cell_type": "code",
   "execution_count": 6,
   "id": "cbfaf0d0",
   "metadata": {},
   "outputs": [],
   "source": [
    "def p6(filename):\n",
    "    with open (filename, 'r', newline='') as file:\n",
    "        # define another function to parse Int\n",
    "        def try_int(v):\n",
    "            if v is None or not v.strip():\n",
    "                return None\n",
    "            try:\n",
    "                return int(v)\n",
    "            except (ValueError, TypeError):\n",
    "                return None\n",
    "        for row in csv.DictReader(file, delimiter='\\t'):\n",
    "            yield ({k:try_int(v) for k, v in row.items()})"
   ]
  },
  {
   "cell_type": "markdown",
   "id": "fea0e26b",
   "metadata": {},
   "source": []
  },
  {
   "cell_type": "code",
   "execution_count": 7,
   "id": "c0911cc7",
   "metadata": {},
   "outputs": [
    {
     "data": {
      "text/plain": [
       "[{'a': 3, 'b': 4}]"
      ]
     },
     "execution_count": 7,
     "metadata": {},
     "output_type": "execute_result"
    }
   ],
   "source": [
    "list(p6(\"data6_a.tsv\"))"
   ]
  },
  {
   "cell_type": "code",
   "execution_count": 8,
   "id": "11179375",
   "metadata": {},
   "outputs": [],
   "source": [
    "def p13 (filename):\n",
    "    with open (filename, 'r', newline='') as file:\n",
    "        return csv.DictReader(file, delimiter='\\t').fieldnames"
   ]
  },
  {
   "cell_type": "code",
   "execution_count": 9,
   "id": "299b623e",
   "metadata": {},
   "outputs": [
    {
     "data": {
      "text/plain": [
       "['foo,bar']"
      ]
     },
     "execution_count": 9,
     "metadata": {},
     "output_type": "execute_result"
    }
   ],
   "source": [
    "p13(\"data13_a.csv\")"
   ]
  },
  {
   "cell_type": "code",
   "execution_count": 10,
   "id": "b6a1a789",
   "metadata": {},
   "outputs": [],
   "source": [
    "def p10(filename):\n",
    "        with open(filename, 'r') as file:\n",
    "                return '\\t' in file.readline()"
   ]
  },
  {
   "cell_type": "code",
   "execution_count": 11,
   "id": "942fdb68",
   "metadata": {},
   "outputs": [
    {
     "data": {
      "text/plain": [
       "False"
      ]
     },
     "execution_count": 11,
     "metadata": {},
     "output_type": "execute_result"
    }
   ],
   "source": [
    "p10(\"data10_b.tsv\")"
   ]
  },
  {
   "cell_type": "code",
   "execution_count": 12,
   "id": "a1247b9f",
   "metadata": {},
   "outputs": [],
   "source": [
    "def p9 (filename):\n",
    "    with open(filename, 'r', newline='') as file:\n",
    "        return len([row for row in csv.DictReader(file, delimiter='\\t') if any(row.values())])"
   ]
  },
  {
   "cell_type": "code",
   "execution_count": 13,
   "id": "b9989497",
   "metadata": {},
   "outputs": [
    {
     "data": {
      "text/plain": [
       "1"
      ]
     },
     "execution_count": 13,
     "metadata": {},
     "output_type": "execute_result"
    }
   ],
   "source": [
    "p9(\"data9_a.tsv\")"
   ]
  },
  {
   "cell_type": "code",
   "execution_count": 14,
   "id": "1b596218",
   "metadata": {},
   "outputs": [],
   "source": [
    "def p7(filename):\n",
    "    with open(filename, 'r', newline='') as file:\n",
    "        for row in csv.DictReader(file, delimiter='\\t'):\n",
    "            finagled = False\n",
    "            new_row = {}\n",
    "            \n",
    "            for k, v in row.items():\n",
    "                if v is None or not v.strip():\n",
    "                    new_row[k] = 3\n",
    "                    finagled = True\n",
    "                else:\n",
    "                    try:\n",
    "                        new_row[k] = int(v)\n",
    "                    except (ValueError, TypeError):\n",
    "                        new_row[k] = 3\n",
    "                        finagled = True\n",
    "            \n",
    "            new_row[\"finagled\"] = finagled\n",
    "            yield new_row"
   ]
  },
  {
   "cell_type": "code",
   "execution_count": 15,
   "id": "b1dcf128",
   "metadata": {},
   "outputs": [
    {
     "data": {
      "text/plain": [
       "[{'a': 3, 'b': 4, 'finagled': False}]"
      ]
     },
     "execution_count": 15,
     "metadata": {},
     "output_type": "execute_result"
    }
   ],
   "source": [
    "list(p7(\"data7_a.tsv\"))"
   ]
  },
  {
   "cell_type": "code",
   "execution_count": 16,
   "id": "89ea4b5b",
   "metadata": {},
   "outputs": [],
   "source": [
    "def p18(filename, column_name, column_value):\n",
    "    with open(filename, 'r', newline='') as file:\n",
    "        for row in csv.DictReader(file, delimiter='\\t'):\n",
    "            if str(row.get(column_name)) == str(column_value):\n",
    "                return row\n",
    "        return None"
   ]
  },
  {
   "cell_type": "code",
   "execution_count": 17,
   "id": "05bc7880",
   "metadata": {},
   "outputs": [
    {
     "data": {
      "text/plain": [
       "{'foo': '4', 'bar': '4'}"
      ]
     },
     "execution_count": 17,
     "metadata": {},
     "output_type": "execute_result"
    }
   ],
   "source": [
    "p18(\"data18_b.tsv\", \"foo\", 4)"
   ]
  },
  {
   "cell_type": "code",
   "execution_count": 18,
   "id": "00cc7352",
   "metadata": {},
   "outputs": [],
   "source": [
    "def p19(input):\n",
    "    if len(input) >= 10:\n",
    "        return input[9]\n",
    "\n",
    "    return None"
   ]
  },
  {
   "cell_type": "code",
   "execution_count": 19,
   "id": "a864b418",
   "metadata": {},
   "outputs": [
    {
     "data": {
      "text/plain": [
       "'c'"
      ]
     },
     "execution_count": 19,
     "metadata": {},
     "output_type": "execute_result"
    }
   ],
   "source": [
    "p19(\"aaaaaaaaacaaaa\")"
   ]
  },
  {
   "cell_type": "code",
   "execution_count": 20,
   "id": "0dc003d3",
   "metadata": {},
   "outputs": [],
   "source": [
    "def p17(filename, column_names):\n",
    "    with open(filename, 'r', newline='') as file:\n",
    "        headers = csv.DictReader(file, delimiter=',').fieldnames     \n",
    "        return all(col in headers for col in column_names)"
   ]
  },
  {
   "cell_type": "code",
   "execution_count": 21,
   "id": "868dd6cf",
   "metadata": {},
   "outputs": [
    {
     "data": {
      "text/plain": [
       "True"
      ]
     },
     "execution_count": 21,
     "metadata": {},
     "output_type": "execute_result"
    }
   ],
   "source": [
    "p17(\"data17_a.csv\", [\"foo\", \"bar\"])"
   ]
  },
  {
   "cell_type": "code",
   "execution_count": 22,
   "id": "2dd95286",
   "metadata": {},
   "outputs": [],
   "source": [
    "def p8(input_filename, output_filename, column_names):\n",
    "    with open(input_filename, 'r', newline='') as infile, \\\n",
    "        open(output_filename, 'w', newline='') as outfile:\n",
    "\n",
    "        #define reader, writer + specify the writer header\n",
    "        reader = csv.DictReader(infile, delimiter='\\t')\n",
    "        writer = csv.DictWriter(outfile, fieldnames=column_names, delimiter='\\t')\n",
    "\n",
    "        #write header\n",
    "        writer.writeheader()\n",
    "        \n",
    "        #loop through each row with header\n",
    "        for row in reader:\n",
    "            new_row = {k:row.get(k, '') for k in column_names if k in row}\n",
    "            writer.writerow(new_row)"
   ]
  },
  {
   "cell_type": "code",
   "execution_count": 23,
   "id": "a4f3f71a",
   "metadata": {},
   "outputs": [],
   "source": [
    "p8(\"input-8.tsv\", \"output-8.tsv\", [\"height\", \"width\", \"color\"])"
   ]
  },
  {
   "cell_type": "code",
   "execution_count": 24,
   "id": "4d404987",
   "metadata": {},
   "outputs": [
    {
     "name": "stdout",
     "output_type": "stream",
     "text": [
      "height\twidth\tcolor\n",
      "45\t23\tred\n",
      "62\t15\tblue\n",
      "23\t123\tgreen\n"
     ]
    }
   ],
   "source": [
    "try:\n",
    "    with open(\"output-8.tsv\") as check_fp:\n",
    "        for line in check_fp:\n",
    "            print(line.rstrip(\"\\n\"))\n",
    "except FileNotFoundError:\n",
    "    print(\"file not found\")"
   ]
  },
  {
   "cell_type": "code",
   "execution_count": 25,
   "id": "02a082c4",
   "metadata": {},
   "outputs": [],
   "source": [
    "q12 = \"6.4,dog,red,0.9\\n\""
   ]
  },
  {
   "cell_type": "code",
   "execution_count": 26,
   "id": "050367fb",
   "metadata": {},
   "outputs": [],
   "source": [
    "p12 = float(q12.split(',')[0])"
   ]
  },
  {
   "cell_type": "code",
   "execution_count": 27,
   "id": "bba3e395",
   "metadata": {},
   "outputs": [
    {
     "data": {
      "text/plain": [
       "6.4"
      ]
     },
     "execution_count": 27,
     "metadata": {},
     "output_type": "execute_result"
    }
   ],
   "source": [
    "p12"
   ]
  },
  {
   "cell_type": "code",
   "execution_count": 34,
   "id": "816e465b",
   "metadata": {},
   "outputs": [],
   "source": [
    "def p14(filename, column_name):\n",
    "    with open(filename, 'r', newline='') as file:\n",
    "        reader = csv.DictReader(file, delimiter=',')\n",
    "\n",
    "        # check to see if given column name is in the header\n",
    "        if column_name not in reader.fieldnames:\n",
    "            raise KeyError\n",
    "        \n",
    "        # if in the header, return the value\n",
    "        return [row[column_name] for row in reader]    "
   ]
  },
  {
   "cell_type": "code",
   "execution_count": 36,
   "id": "c6e13a59",
   "metadata": {},
   "outputs": [
    {
     "data": {
      "text/plain": [
       "['2', '4']"
      ]
     },
     "execution_count": 36,
     "metadata": {},
     "output_type": "execute_result"
    }
   ],
   "source": [
    "p14(\"data14_a.csv\", \"bar\")"
   ]
  },
  {
   "cell_type": "code",
   "execution_count": 31,
   "id": "ebf8142d",
   "metadata": {},
   "outputs": [
    {
     "ename": "SyntaxError",
     "evalue": "expected '(' (2582665398.py, line 1)",
     "output_type": "error",
     "traceback": [
      "  \u001b[36mCell\u001b[39m\u001b[36m \u001b[39m\u001b[32mIn[31]\u001b[39m\u001b[32m, line 1\u001b[39m\n\u001b[31m    \u001b[39m\u001b[31mdef p100 parse_int(s):\u001b[39m\n             ^\n\u001b[31mSyntaxError\u001b[39m\u001b[31m:\u001b[39m expected '('\n"
     ]
    }
   ],
   "source": [
    "def p100 parse_int(s):\n"
   ]
  },
  {
   "cell_type": "code",
   "execution_count": null,
   "id": "43890ee2",
   "metadata": {},
   "outputs": [],
   "source": [
    "def p6(filename):\n",
    "    with open(filename, \"r\", newline=\"\") as file:\n",
    "        reader = csv.DictReader(file, delimiter=\"\\t\")\n",
    "        for row in reader:\n",
    "            for key, value in row.items():\n",
    "                try:\n",
    "                    row[key] = int(value)\n",
    "                except ValueError:\n",
    "                    row[key] = None\n",
    "            yield row"
   ]
  },
  {
   "cell_type": "code",
   "execution_count": null,
   "id": "e45d0d93",
   "metadata": {},
   "outputs": [
    {
     "data": {
      "text/plain": [
       "[{'a': 3, 'b': 4}]"
      ]
     },
     "execution_count": 11,
     "metadata": {},
     "output_type": "execute_result"
    }
   ],
   "source": [
    "list(p6(\"data6_a.tsv\"))"
   ]
  },
  {
   "cell_type": "code",
   "execution_count": null,
   "id": "42468102",
   "metadata": {},
   "outputs": [
    {
     "name": "stdout",
     "output_type": "stream",
     "text": [
      "'The number of visits is 5,125 and the average visit revenue is $3.51'\n"
     ]
    }
   ],
   "source": [
    "q11a = 5125\n",
    "q11b = 3.5123565123\n",
    "p11 = f\"The number of visits is {q11a:,} and the average visit revenue is ${q11b:.2f}\"\n",
    "print(repr(p11))"
   ]
  },
  {
   "cell_type": "code",
   "execution_count": null,
   "id": "86b5e909",
   "metadata": {},
   "outputs": [],
   "source": [
    "def p16(filename):\n",
    "   \n",
    "    column_sums = {}\n",
    "    column_counts = {}\n",
    "    \n",
    "    with open(filename, 'r', newline='') as file:\n",
    "        reader = csv.DictReader(file, delimiter='\\t')\n",
    "        \n",
    "        for row in reader:\n",
    "            for col_name, value in row.items():\n",
    "                try:\n",
    "                    # Convert to number and add to sum/count\n",
    "                    num_value = float(value)\n",
    "                    column_sums[col_name] += num_value\n",
    "                    column_counts[col_name] += 1\n",
    "                except (ValueError, TypeError):\n",
    "                    # Skip non-numeric values for this column\n",
    "                    continue\n",
    "    \n",
    "    # Calculate averages for each column\n",
    "    averages = {}\n",
    "    for col_name in column_sums:\n",
    "        if column_counts[col_name] > 0:\n",
    "            averages[col_name] = column_sums[col_name] / column_counts[col_name]\n",
    "        else:\n",
    "            averages[col_name] = 0  # or None if you prefer\n",
    "    \n",
    "    return averages"
   ]
  },
  {
   "cell_type": "code",
   "execution_count": null,
   "id": "7ef5a3db",
   "metadata": {},
   "outputs": [],
   "source": [
    "def p16(filename):\n",
    "    column_sums = {}\n",
    "    column_counts = {}\n",
    "    \n",
    "    with open(filename, 'r', newline='') as file:\n",
    "        reader = csv.DictReader(file, delimiter='\\t')\n",
    "        \n",
    "        for row in reader:\n",
    "            for col_name, value in row.items():  # This iterates through ALL columns\n",
    "                try:\n",
    "                    num_value = float(value)\n",
    "                    column_sums[col_name] = column_sums.get(col_name, 0) + num_value\n",
    "                    column_counts[col_name] = column_counts.get(col_name, 0) + 1\n",
    "                except (ValueError, TypeError):\n",
    "                    continue\n",
    "    \n",
    "    averages = {}\n",
    "    for col_name in column_sums:\n",
    "        averages[col_name] = column_sums[col_name] / column_counts[col_name]\n",
    "    \n",
    "    return averages"
   ]
  },
  {
   "cell_type": "code",
   "execution_count": null,
   "id": "b2a82f31",
   "metadata": {},
   "outputs": [],
   "source": [
    "def p16(filename):\n",
    "\n",
    "    # Caculate average, sum/count\n",
    "    col_sum = {}\n",
    "    col_count = {}\n",
    "\n",
    "    # Open file to read in values\n",
    "    with open(filename, 'r', newline='') as file:\n",
    "        reader = csv.DictReader(file, delimiter='\\t')\n",
    "\n",
    "        # Loop through each row {k:v, k:v, k:v...}\n",
    "        for row in reader:\n",
    "\n",
    "            # Loop through each item (k:v) in that row\n",
    "            for key, value in row.items():\n",
    "                # try to convert value to numbers\n",
    "                try:\n",
    "                    num = float(value)\n",
    "\n",
    "                    # if first key\n",
    "                    if key not in col_sum:\n",
    "                        col_sum[key] = 0\n",
    "                        col_count[key] = 0\n",
    "\n",
    "                    # now add to col_sum and count + 1\n",
    "                    col_sum[key] += num\n",
    "                    col_count[key] += 1\n",
    "\n",
    "                except (KeyError, TypeError):\n",
    "                    continue\n",
    "\n",
    "            # exit this for loop to calculate the sum/count\n",
    "    average = {}\n",
    "\n",
    "    # Loop through each values in col sum\n",
    "    for key in col_sum:\n",
    "        average[key] = col_sum[key]/col_count[key]\n",
    "\n",
    "    # now return the average, which should contain the col name and its avarage\n",
    "    return average\n",
    "\n",
    "\n",
    "\n"
   ]
  },
  {
   "cell_type": "code",
   "execution_count": null,
   "id": "f4f581be",
   "metadata": {},
   "outputs": [
    {
     "data": {
      "text/plain": [
       "{'foo': 2.5, 'bar': 3.0}"
      ]
     },
     "execution_count": 89,
     "metadata": {},
     "output_type": "execute_result"
    }
   ],
   "source": [
    "p16(\"data16_b.tsv\")"
   ]
  },
  {
   "cell_type": "code",
   "execution_count": 47,
   "id": "525ce23e",
   "metadata": {},
   "outputs": [],
   "source": [
    "def p15(filename, key):\n",
    "    try:\n",
    "        with open(filename, 'r',newline='') as file:\n",
    "            data = json.load(file)\n",
    "\n",
    "        if isinstance(data, dict) and key in data:\n",
    "            return data[key]\n",
    "                        \n",
    "        else:\n",
    "            return None\n",
    "        \n",
    "    except (FileNotFoundError, KeyError):\n",
    "        return None\n"
   ]
  },
  {
   "cell_type": "code",
   "execution_count": 50,
   "id": "d9b6389a",
   "metadata": {},
   "outputs": [
    {
     "data": {
      "text/plain": [
       "3"
      ]
     },
     "execution_count": 50,
     "metadata": {},
     "output_type": "execute_result"
    }
   ],
   "source": [
    "p15(\"data15_a.json\", \"x\")"
   ]
  },
  {
   "cell_type": "code",
   "execution_count": 51,
   "id": "8df81a1b",
   "metadata": {},
   "outputs": [
    {
     "ename": "NameError",
     "evalue": "name 'glob' is not defined",
     "output_type": "error",
     "traceback": [
      "\u001b[31m---------------------------------------------------------------------------\u001b[39m",
      "\u001b[31mNameError\u001b[39m                                 Traceback (most recent call last)",
      "\u001b[36mCell\u001b[39m\u001b[36m \u001b[39m\u001b[32mIn[51]\u001b[39m\u001b[32m, line 1\u001b[39m\n\u001b[32m----> \u001b[39m\u001b[32m1\u001b[39m p20 = \u001b[38;5;28msorted\u001b[39m(\u001b[43mglob\u001b[49m.glob(\u001b[33m\"\u001b[39m\u001b[33mdata20_[0-9].tsv\u001b[39m\u001b[33m\"\u001b[39m))\n",
      "\u001b[31mNameError\u001b[39m: name 'glob' is not defined"
     ]
    }
   ],
   "source": [
    "p20 = sorted(glob.glob(\"data20_[0-9].tsv\"))"
   ]
  }
 ],
 "metadata": {
  "kernelspec": {
   "display_name": "Python 3",
   "language": "python",
   "name": "python3"
  },
  "language_info": {
   "codemirror_mode": {
    "name": "ipython",
    "version": 3
   },
   "file_extension": ".py",
   "mimetype": "text/x-python",
   "name": "python",
   "nbconvert_exporter": "python",
   "pygments_lexer": "ipython3",
   "version": "3.12.1"
  }
 },
 "nbformat": 4,
 "nbformat_minor": 5
}
